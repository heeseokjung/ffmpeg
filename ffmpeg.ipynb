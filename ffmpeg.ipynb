{
 "cells": [
  {
   "cell_type": "code",
   "execution_count": 38,
   "id": "7c191a3b",
   "metadata": {},
   "outputs": [],
   "source": [
    "import os\n",
    "import subprocess\n",
    "from tqdm import tqdm\n",
    "# apt-get install ffmpeg"
   ]
  },
  {
   "cell_type": "code",
   "execution_count": 39,
   "id": "00118f6f",
   "metadata": {},
   "outputs": [],
   "source": [
    "# PATH\n",
    "# input_path/\n",
    "#    - class1 videos\n",
    "#    - class2 videos\n",
    "#    ...\n",
    "\n",
    "input_path = \"\" # absolute path for src video directory\n",
    "output_path = \"\" # absolute path for dest frame directory"
   ]
  },
  {
   "cell_type": "code",
   "execution_count": 44,
   "id": "4de0e3e2",
   "metadata": {},
   "outputs": [],
   "source": [
    "# OPTIONS\n",
    "fps = \"3\"\n",
    "size = \"224x224\"\n",
    "ext = \"jpg\""
   ]
  },
  {
   "cell_type": "code",
   "execution_count": 66,
   "id": "371dc6e6",
   "metadata": {
    "scrolled": true
   },
   "outputs": [
    {
     "name": "stderr",
     "output_type": "stream",
     "text": [
      "100%|█████████████████████████████████████████████████████████████████████████| 1/1 [00:00<00:00, 59.73it/s]\n"
     ]
    }
   ],
   "source": [
    "for class_dir in tqdm(os.listdir(input_path)):\n",
    "    path = os.path.join(input_path, class_dir)\n",
    "    os.makedirs(os.path.join(output_path, class_dir), exist_ok=True)\n",
    "    for video in os.listdir(path):\n",
    "        video_path = os.path.join(path, video)\n",
    "        video_name = video.split(\".\")[0]\n",
    "        frame_path = os.path.join(output_path, class_dir, video_name)\n",
    "        os.makedirs(frame_path)\n",
    "        subprocess.Popen(\n",
    "            [\"ffmpeg\",  \n",
    "             \"-i\", video_path,\n",
    "             \"-r\", fps,\n",
    "             \"-s\", size,\n",
    "             \"-qscale:v\", \"2\",\n",
    "             os.path.join(frame_path, f\"{video_name}_%4d.{ext}\")\n",
    "            ], stdout=subprocess.PIPE, stderr=subprocess.PIPE\n",
    "        )"
   ]
  },
  {
   "cell_type": "code",
   "execution_count": null,
   "id": "92cf2a38",
   "metadata": {},
   "outputs": [],
   "source": []
  }
 ],
 "metadata": {
  "kernelspec": {
   "display_name": "Python 3 (ipykernel)",
   "language": "python",
   "name": "python3"
  },
  "language_info": {
   "codemirror_mode": {
    "name": "ipython",
    "version": 3
   },
   "file_extension": ".py",
   "mimetype": "text/x-python",
   "name": "python",
   "nbconvert_exporter": "python",
   "pygments_lexer": "ipython3",
   "version": "3.8.5"
  }
 },
 "nbformat": 4,
 "nbformat_minor": 5
}
